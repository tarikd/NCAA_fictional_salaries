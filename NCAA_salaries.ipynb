{
 "metadata": {
  "name": "",
  "signature": "sha256:e7fdaf0138c0d552b13cf935fd830d31567c88bf972c4cd4e49c44b51632d237"
 },
 "nbformat": 3,
 "nbformat_minor": 0,
 "worksheets": [
  {
   "cells": [
    {
     "cell_type": "heading",
     "level": 2,
     "metadata": {},
     "source": [
      "NCAA Players Fictionnal Salaries"
     ]
    },
    {
     "cell_type": "heading",
     "level": 4,
     "metadata": {},
     "source": [
      "I recently discovered that NCAA athletes are not paied even if some of them are stars before even leaving college for the NBA. And it got me wondering what if this athletes were paid what would have been there salaries."
     ]
    },
    {
     "cell_type": "markdown",
     "metadata": {},
     "source": [
      "I also learned on twitter that there was a statistic that expresses a players overall contributions to a game, this statistic is called Player Efficiency Rating or PER.\n",
      "\n",
      "Wikipedia describes this rating like this :\n",
      "\n",
      ">\"The player efficiency rating (PER) is John Hollinger's all-in-one basketball rating, which attempts to boil down all of a player's contributions into one number. Using a detailed formula, Hollinger developed a system that rates every player's statistical performance.\" John Hollinger is current Vice President of basketball operations for the Memphis Grizzlies.\n",
      "\n",
      "The player efficeny rating measures a players per-minute performance on the court adjusted for pace. PER takes into account both positive and negative contributions by the player, it is than adjusted to a per-minute basis so that every player, whether it be a starter or a sixth-man, can be compared equally. At this point my game plan become to find current NBA data that included PER and Salary, create a predictive model using this data to predict players salary."
     ]
    },
    {
     "cell_type": "markdown",
     "metadata": {},
     "source": [
      "The data that I will use will be taken from [basketball-reference](http://www.basketball-reference.com/)."
     ]
    },
    {
     "cell_type": "code",
     "collapsed": false,
     "input": [
      "import pandas as pd\n",
      "import matplotlib.pyplot as plt\n",
      "df = pd.read_csv('salaries.csv')\n",
      "df.head()"
     ],
     "language": "python",
     "metadata": {},
     "outputs": [
      {
       "html": [
        "<div style=\"max-height:1000px;max-width:1500px;overflow:auto;\">\n",
        "<table border=\"1\" class=\"dataframe\">\n",
        "  <thead>\n",
        "    <tr style=\"text-align: right;\">\n",
        "      <th></th>\n",
        "      <th>Rk</th>\n",
        "      <th>Player</th>\n",
        "      <th>Tm</th>\n",
        "      <th>Cap Hit</th>\n",
        "      <th>2013-14</th>\n",
        "      <th>2014-15</th>\n",
        "      <th>2015-16</th>\n",
        "      <th>2016-17</th>\n",
        "      <th>2017-18</th>\n",
        "      <th>Signed Using</th>\n",
        "      <th>Guaranteed</th>\n",
        "    </tr>\n",
        "  </thead>\n",
        "  <tbody>\n",
        "    <tr>\n",
        "      <th>0</th>\n",
        "      <td> 1</td>\n",
        "      <td>       Kobe Bryant</td>\n",
        "      <td> LAL</td>\n",
        "      <td> 30453805</td>\n",
        "      <td> 30453805</td>\n",
        "      <td> 23500000</td>\n",
        "      <td> 25000000</td>\n",
        "      <td>NaN</td>\n",
        "      <td>NaN</td>\n",
        "      <td> Bird Rights</td>\n",
        "      <td> 78953805</td>\n",
        "    </tr>\n",
        "    <tr>\n",
        "      <th>1</th>\n",
        "      <td> 2</td>\n",
        "      <td>     Dirk Nowitzki</td>\n",
        "      <td> DAL</td>\n",
        "      <td> 22721381</td>\n",
        "      <td> 22721381</td>\n",
        "      <td>      NaN</td>\n",
        "      <td>      NaN</td>\n",
        "      <td>NaN</td>\n",
        "      <td>NaN</td>\n",
        "      <td> Bird Rights</td>\n",
        "      <td> 22721381</td>\n",
        "    </tr>\n",
        "    <tr>\n",
        "      <th>2</th>\n",
        "      <td> 3</td>\n",
        "      <td> Amar'e Stoudemire</td>\n",
        "      <td> NYK</td>\n",
        "      <td> 21679893</td>\n",
        "      <td> 21679893</td>\n",
        "      <td> 23410988</td>\n",
        "      <td>      NaN</td>\n",
        "      <td>NaN</td>\n",
        "      <td>NaN</td>\n",
        "      <td> Bird Rights</td>\n",
        "      <td> 45090881</td>\n",
        "    </tr>\n",
        "    <tr>\n",
        "      <th>3</th>\n",
        "      <td> 4</td>\n",
        "      <td>       Joe Johnson</td>\n",
        "      <td> BRK</td>\n",
        "      <td> 21466718</td>\n",
        "      <td> 21466718</td>\n",
        "      <td> 23180790</td>\n",
        "      <td> 24894863</td>\n",
        "      <td>NaN</td>\n",
        "      <td>NaN</td>\n",
        "      <td> Bird Rights</td>\n",
        "      <td> 69542371</td>\n",
        "    </tr>\n",
        "    <tr>\n",
        "      <th>4</th>\n",
        "      <td> 5</td>\n",
        "      <td>   Carmelo Anthony</td>\n",
        "      <td> NYK</td>\n",
        "      <td> 21388953</td>\n",
        "      <td> 21388953</td>\n",
        "      <td> 23333405</td>\n",
        "      <td>      NaN</td>\n",
        "      <td>NaN</td>\n",
        "      <td>NaN</td>\n",
        "      <td> Bird Rights</td>\n",
        "      <td> 44722359</td>\n",
        "    </tr>\n",
        "  </tbody>\n",
        "</table>\n",
        "</div>"
       ],
       "metadata": {},
       "output_type": "pyout",
       "prompt_number": 1,
       "text": [
        "   Rk             Player   Tm   Cap Hit   2013-14   2014-15   2015-16  \\\n",
        "0   1        Kobe Bryant  LAL  30453805  30453805  23500000  25000000   \n",
        "1   2      Dirk Nowitzki  DAL  22721381  22721381       NaN       NaN   \n",
        "2   3  Amar'e Stoudemire  NYK  21679893  21679893  23410988       NaN   \n",
        "3   4        Joe Johnson  BRK  21466718  21466718  23180790  24894863   \n",
        "4   5    Carmelo Anthony  NYK  21388953  21388953  23333405       NaN   \n",
        "\n",
        "   2016-17  2017-18 Signed Using  Guaranteed  \n",
        "0      NaN      NaN  Bird Rights    78953805  \n",
        "1      NaN      NaN  Bird Rights    22721381  \n",
        "2      NaN      NaN  Bird Rights    45090881  \n",
        "3      NaN      NaN  Bird Rights    69542371  \n",
        "4      NaN      NaN  Bird Rights    44722359  "
       ]
      }
     ],
     "prompt_number": 1
    },
    {
     "cell_type": "markdown",
     "metadata": {},
     "source": [
      "We keep the Player Name and current year salary."
     ]
    },
    {
     "cell_type": "code",
     "collapsed": false,
     "input": [
      "df = df[['Player','Cap Hit']]\n",
      "df.head()"
     ],
     "language": "python",
     "metadata": {},
     "outputs": [
      {
       "html": [
        "<div style=\"max-height:1000px;max-width:1500px;overflow:auto;\">\n",
        "<table border=\"1\" class=\"dataframe\">\n",
        "  <thead>\n",
        "    <tr style=\"text-align: right;\">\n",
        "      <th></th>\n",
        "      <th>Player</th>\n",
        "      <th>Cap Hit</th>\n",
        "    </tr>\n",
        "  </thead>\n",
        "  <tbody>\n",
        "    <tr>\n",
        "      <th>0</th>\n",
        "      <td>       Kobe Bryant</td>\n",
        "      <td> 30453805</td>\n",
        "    </tr>\n",
        "    <tr>\n",
        "      <th>1</th>\n",
        "      <td>     Dirk Nowitzki</td>\n",
        "      <td> 22721381</td>\n",
        "    </tr>\n",
        "    <tr>\n",
        "      <th>2</th>\n",
        "      <td> Amar'e Stoudemire</td>\n",
        "      <td> 21679893</td>\n",
        "    </tr>\n",
        "    <tr>\n",
        "      <th>3</th>\n",
        "      <td>       Joe Johnson</td>\n",
        "      <td> 21466718</td>\n",
        "    </tr>\n",
        "    <tr>\n",
        "      <th>4</th>\n",
        "      <td>   Carmelo Anthony</td>\n",
        "      <td> 21388953</td>\n",
        "    </tr>\n",
        "  </tbody>\n",
        "</table>\n",
        "</div>"
       ],
       "metadata": {},
       "output_type": "pyout",
       "prompt_number": 2,
       "text": [
        "              Player   Cap Hit\n",
        "0        Kobe Bryant  30453805\n",
        "1      Dirk Nowitzki  22721381\n",
        "2  Amar'e Stoudemire  21679893\n",
        "3        Joe Johnson  21466718\n",
        "4    Carmelo Anthony  21388953"
       ]
      }
     ],
     "prompt_number": 2
    },
    {
     "cell_type": "markdown",
     "metadata": {},
     "source": [
      "We load Data that includes player efficency rating."
     ]
    },
    {
     "cell_type": "code",
     "collapsed": false,
     "input": [
      "per = pd.read_csv('per.csv')\n",
      "per.head()"
     ],
     "language": "python",
     "metadata": {},
     "outputs": [
      {
       "html": [
        "<div style=\"max-height:1000px;max-width:1500px;overflow:auto;\">\n",
        "<table border=\"1\" class=\"dataframe\">\n",
        "  <thead>\n",
        "    <tr style=\"text-align: right;\">\n",
        "      <th></th>\n",
        "      <th>Rk</th>\n",
        "      <th>Player</th>\n",
        "      <th>Pos</th>\n",
        "      <th>Age</th>\n",
        "      <th>Tm</th>\n",
        "      <th>G</th>\n",
        "      <th>MP</th>\n",
        "      <th>PER</th>\n",
        "      <th>TS%</th>\n",
        "      <th>eFG%</th>\n",
        "      <th>...</th>\n",
        "      <th>STL%</th>\n",
        "      <th>BLK%</th>\n",
        "      <th>TOV%</th>\n",
        "      <th>USG%</th>\n",
        "      <th>ORtg</th>\n",
        "      <th>DRtg</th>\n",
        "      <th>OWS</th>\n",
        "      <th>DWS</th>\n",
        "      <th>WS</th>\n",
        "      <th>WS/48</th>\n",
        "    </tr>\n",
        "  </thead>\n",
        "  <tbody>\n",
        "    <tr>\n",
        "      <th>0</th>\n",
        "      <td> 1</td>\n",
        "      <td> DeAndre Liggins</td>\n",
        "      <td> SG</td>\n",
        "      <td> 25</td>\n",
        "      <td> MIA</td>\n",
        "      <td>  1</td>\n",
        "      <td>    1</td>\n",
        "      <td> 128.3</td>\n",
        "      <td> 1.000</td>\n",
        "      <td> 1.000</td>\n",
        "      <td>...</td>\n",
        "      <td> 0.0</td>\n",
        "      <td> 0.0</td>\n",
        "      <td>  0.0</td>\n",
        "      <td> 47.5</td>\n",
        "      <td> 205</td>\n",
        "      <td> 116</td>\n",
        "      <td>  0.0</td>\n",
        "      <td> 0.0</td>\n",
        "      <td>  0.0</td>\n",
        "      <td> 2.123</td>\n",
        "    </tr>\n",
        "    <tr>\n",
        "      <th>1</th>\n",
        "      <td> 2</td>\n",
        "      <td>   Tony Mitchell</td>\n",
        "      <td> SF</td>\n",
        "      <td> 24</td>\n",
        "      <td> MIL</td>\n",
        "      <td>  3</td>\n",
        "      <td>   10</td>\n",
        "      <td>  31.0</td>\n",
        "      <td> 0.600</td>\n",
        "      <td> 0.600</td>\n",
        "      <td>...</td>\n",
        "      <td> 5.2</td>\n",
        "      <td> 0.0</td>\n",
        "      <td>  0.0</td>\n",
        "      <td> 22.6</td>\n",
        "      <td> 132</td>\n",
        "      <td> 109</td>\n",
        "      <td>  0.0</td>\n",
        "      <td> 0.0</td>\n",
        "      <td>  0.1</td>\n",
        "      <td> 0.243</td>\n",
        "    </tr>\n",
        "    <tr>\n",
        "      <th>2</th>\n",
        "      <td> 3</td>\n",
        "      <td>    Kevin Durant</td>\n",
        "      <td> SF</td>\n",
        "      <td> 25</td>\n",
        "      <td> OKC</td>\n",
        "      <td> 69</td>\n",
        "      <td> 2654</td>\n",
        "      <td>  30.4</td>\n",
        "      <td> 0.639</td>\n",
        "      <td> 0.564</td>\n",
        "      <td>...</td>\n",
        "      <td> 1.7</td>\n",
        "      <td> 1.6</td>\n",
        "      <td> 12.4</td>\n",
        "      <td> 32.9</td>\n",
        "      <td> 123</td>\n",
        "      <td> 102</td>\n",
        "      <td> 13.1</td>\n",
        "      <td> 4.0</td>\n",
        "      <td> 17.1</td>\n",
        "      <td> 0.310</td>\n",
        "    </tr>\n",
        "    <tr>\n",
        "      <th>3</th>\n",
        "      <td> 4</td>\n",
        "      <td>    LeBron James</td>\n",
        "      <td> PF</td>\n",
        "      <td> 29</td>\n",
        "      <td> MIA</td>\n",
        "      <td> 66</td>\n",
        "      <td> 2489</td>\n",
        "      <td>  29.1</td>\n",
        "      <td> 0.649</td>\n",
        "      <td> 0.612</td>\n",
        "      <td>...</td>\n",
        "      <td> 2.3</td>\n",
        "      <td> 0.8</td>\n",
        "      <td> 14.4</td>\n",
        "      <td> 30.4</td>\n",
        "      <td> 121</td>\n",
        "      <td> 105</td>\n",
        "      <td> 10.5</td>\n",
        "      <td> 3.0</td>\n",
        "      <td> 13.5</td>\n",
        "      <td> 0.260</td>\n",
        "    </tr>\n",
        "    <tr>\n",
        "      <th>4</th>\n",
        "      <td> 5</td>\n",
        "      <td>      Kevin Love</td>\n",
        "      <td> PF</td>\n",
        "      <td> 25</td>\n",
        "      <td> MIN</td>\n",
        "      <td> 66</td>\n",
        "      <td> 2408</td>\n",
        "      <td>  27.9</td>\n",
        "      <td> 0.594</td>\n",
        "      <td> 0.528</td>\n",
        "      <td>...</td>\n",
        "      <td> 1.1</td>\n",
        "      <td> 1.0</td>\n",
        "      <td>  9.4</td>\n",
        "      <td> 28.7</td>\n",
        "      <td> 122</td>\n",
        "      <td> 104</td>\n",
        "      <td> 10.0</td>\n",
        "      <td> 3.2</td>\n",
        "      <td> 13.2</td>\n",
        "      <td> 0.262</td>\n",
        "    </tr>\n",
        "  </tbody>\n",
        "</table>\n",
        "<p>5 rows \u00d7 26 columns</p>\n",
        "</div>"
       ],
       "metadata": {},
       "output_type": "pyout",
       "prompt_number": 3,
       "text": [
        "   Rk           Player Pos  Age   Tm   G    MP    PER    TS%   eFG%  ...    \\\n",
        "0   1  DeAndre Liggins  SG   25  MIA   1     1  128.3  1.000  1.000  ...     \n",
        "1   2    Tony Mitchell  SF   24  MIL   3    10   31.0  0.600  0.600  ...     \n",
        "2   3     Kevin Durant  SF   25  OKC  69  2654   30.4  0.639  0.564  ...     \n",
        "3   4     LeBron James  PF   29  MIA  66  2489   29.1  0.649  0.612  ...     \n",
        "4   5       Kevin Love  PF   25  MIN  66  2408   27.9  0.594  0.528  ...     \n",
        "\n",
        "   STL%  BLK%  TOV%  USG%  ORtg  DRtg   OWS  DWS    WS  WS/48  \n",
        "0   0.0   0.0   0.0  47.5   205   116   0.0  0.0   0.0  2.123  \n",
        "1   5.2   0.0   0.0  22.6   132   109   0.0  0.0   0.1  0.243  \n",
        "2   1.7   1.6  12.4  32.9   123   102  13.1  4.0  17.1  0.310  \n",
        "3   2.3   0.8  14.4  30.4   121   105  10.5  3.0  13.5  0.260  \n",
        "4   1.1   1.0   9.4  28.7   122   104  10.0  3.2  13.2  0.262  \n",
        "\n",
        "[5 rows x 26 columns]"
       ]
      }
     ],
     "prompt_number": 3
    },
    {
     "cell_type": "markdown",
     "metadata": {},
     "source": [
      "We add a column for minutes per game, to qualify for PER you must have a minimum of 6.09 MPG."
     ]
    },
    {
     "cell_type": "code",
     "collapsed": false,
     "input": [
      "per['MPG'] = per['MP'] / per['G']"
     ],
     "language": "python",
     "metadata": {},
     "outputs": [],
     "prompt_number": 4
    },
    {
     "cell_type": "code",
     "collapsed": false,
     "input": [
      "per = per[['Player','PER','MPG']]"
     ],
     "language": "python",
     "metadata": {},
     "outputs": [],
     "prompt_number": 5
    },
    {
     "cell_type": "code",
     "collapsed": false,
     "input": [
      "per.head()"
     ],
     "language": "python",
     "metadata": {},
     "outputs": [
      {
       "html": [
        "<div style=\"max-height:1000px;max-width:1500px;overflow:auto;\">\n",
        "<table border=\"1\" class=\"dataframe\">\n",
        "  <thead>\n",
        "    <tr style=\"text-align: right;\">\n",
        "      <th></th>\n",
        "      <th>Player</th>\n",
        "      <th>PER</th>\n",
        "      <th>MPG</th>\n",
        "    </tr>\n",
        "  </thead>\n",
        "  <tbody>\n",
        "    <tr>\n",
        "      <th>0</th>\n",
        "      <td> DeAndre Liggins</td>\n",
        "      <td> 128.3</td>\n",
        "      <td>  1.000000</td>\n",
        "    </tr>\n",
        "    <tr>\n",
        "      <th>1</th>\n",
        "      <td>   Tony Mitchell</td>\n",
        "      <td>  31.0</td>\n",
        "      <td>  3.333333</td>\n",
        "    </tr>\n",
        "    <tr>\n",
        "      <th>2</th>\n",
        "      <td>    Kevin Durant</td>\n",
        "      <td>  30.4</td>\n",
        "      <td> 38.463768</td>\n",
        "    </tr>\n",
        "    <tr>\n",
        "      <th>3</th>\n",
        "      <td>    LeBron James</td>\n",
        "      <td>  29.1</td>\n",
        "      <td> 37.712121</td>\n",
        "    </tr>\n",
        "    <tr>\n",
        "      <th>4</th>\n",
        "      <td>      Kevin Love</td>\n",
        "      <td>  27.9</td>\n",
        "      <td> 36.484848</td>\n",
        "    </tr>\n",
        "  </tbody>\n",
        "</table>\n",
        "</div>"
       ],
       "metadata": {},
       "output_type": "pyout",
       "prompt_number": 6,
       "text": [
        "            Player    PER        MPG\n",
        "0  DeAndre Liggins  128.3   1.000000\n",
        "1    Tony Mitchell   31.0   3.333333\n",
        "2     Kevin Durant   30.4  38.463768\n",
        "3     LeBron James   29.1  37.712121\n",
        "4       Kevin Love   27.9  36.484848"
       ]
      }
     ],
     "prompt_number": 6
    },
    {
     "cell_type": "markdown",
     "metadata": {},
     "source": [
      "We merge PER and salary data into one table, then display only qualified players and remove any duplicate entries."
     ]
    },
    {
     "cell_type": "code",
     "collapsed": false,
     "input": [
      "final = pd.merge(df, per, on='Player', how='outer')\n",
      "final.head()"
     ],
     "language": "python",
     "metadata": {},
     "outputs": [
      {
       "html": [
        "<div style=\"max-height:1000px;max-width:1500px;overflow:auto;\">\n",
        "<table border=\"1\" class=\"dataframe\">\n",
        "  <thead>\n",
        "    <tr style=\"text-align: right;\">\n",
        "      <th></th>\n",
        "      <th>Player</th>\n",
        "      <th>Cap Hit</th>\n",
        "      <th>PER</th>\n",
        "      <th>MPG</th>\n",
        "    </tr>\n",
        "  </thead>\n",
        "  <tbody>\n",
        "    <tr>\n",
        "      <th>0</th>\n",
        "      <td>       Kobe Bryant</td>\n",
        "      <td> 30453805</td>\n",
        "      <td> 10.9</td>\n",
        "      <td> 29.500000</td>\n",
        "    </tr>\n",
        "    <tr>\n",
        "      <th>1</th>\n",
        "      <td>     Dirk Nowitzki</td>\n",
        "      <td> 22721381</td>\n",
        "      <td> 23.2</td>\n",
        "      <td> 32.318841</td>\n",
        "    </tr>\n",
        "    <tr>\n",
        "      <th>2</th>\n",
        "      <td> Amar'e Stoudemire</td>\n",
        "      <td> 21679893</td>\n",
        "      <td> 18.6</td>\n",
        "      <td> 21.296296</td>\n",
        "    </tr>\n",
        "    <tr>\n",
        "      <th>3</th>\n",
        "      <td>       Joe Johnson</td>\n",
        "      <td> 21466718</td>\n",
        "      <td> 15.1</td>\n",
        "      <td> 32.895522</td>\n",
        "    </tr>\n",
        "    <tr>\n",
        "      <th>4</th>\n",
        "      <td>   Carmelo Anthony</td>\n",
        "      <td> 21388953</td>\n",
        "      <td> 24.9</td>\n",
        "      <td> 38.820896</td>\n",
        "    </tr>\n",
        "  </tbody>\n",
        "</table>\n",
        "</div>"
       ],
       "metadata": {},
       "output_type": "pyout",
       "prompt_number": 8,
       "text": [
        "              Player   Cap Hit   PER        MPG\n",
        "0        Kobe Bryant  30453805  10.9  29.500000\n",
        "1      Dirk Nowitzki  22721381  23.2  32.318841\n",
        "2  Amar'e Stoudemire  21679893  18.6  21.296296\n",
        "3        Joe Johnson  21466718  15.1  32.895522\n",
        "4    Carmelo Anthony  21388953  24.9  38.820896"
       ]
      }
     ],
     "prompt_number": 8
    },
    {
     "cell_type": "code",
     "collapsed": false,
     "input": [
      "final = final[final.MPG > 6.09]"
     ],
     "language": "python",
     "metadata": {},
     "outputs": [],
     "prompt_number": 9
    },
    {
     "cell_type": "code",
     "collapsed": false,
     "input": [
      "final.dropna()\n",
      "final.head()"
     ],
     "language": "python",
     "metadata": {},
     "outputs": [
      {
       "html": [
        "<div style=\"max-height:1000px;max-width:1500px;overflow:auto;\">\n",
        "<table border=\"1\" class=\"dataframe\">\n",
        "  <thead>\n",
        "    <tr style=\"text-align: right;\">\n",
        "      <th></th>\n",
        "      <th>Player</th>\n",
        "      <th>Cap Hit</th>\n",
        "      <th>PER</th>\n",
        "      <th>MPG</th>\n",
        "    </tr>\n",
        "  </thead>\n",
        "  <tbody>\n",
        "    <tr>\n",
        "      <th>0</th>\n",
        "      <td>       Kobe Bryant</td>\n",
        "      <td> 30453805</td>\n",
        "      <td> 10.9</td>\n",
        "      <td> 29.500000</td>\n",
        "    </tr>\n",
        "    <tr>\n",
        "      <th>1</th>\n",
        "      <td>     Dirk Nowitzki</td>\n",
        "      <td> 22721381</td>\n",
        "      <td> 23.2</td>\n",
        "      <td> 32.318841</td>\n",
        "    </tr>\n",
        "    <tr>\n",
        "      <th>2</th>\n",
        "      <td> Amar'e Stoudemire</td>\n",
        "      <td> 21679893</td>\n",
        "      <td> 18.6</td>\n",
        "      <td> 21.296296</td>\n",
        "    </tr>\n",
        "    <tr>\n",
        "      <th>3</th>\n",
        "      <td>       Joe Johnson</td>\n",
        "      <td> 21466718</td>\n",
        "      <td> 15.1</td>\n",
        "      <td> 32.895522</td>\n",
        "    </tr>\n",
        "    <tr>\n",
        "      <th>4</th>\n",
        "      <td>   Carmelo Anthony</td>\n",
        "      <td> 21388953</td>\n",
        "      <td> 24.9</td>\n",
        "      <td> 38.820896</td>\n",
        "    </tr>\n",
        "  </tbody>\n",
        "</table>\n",
        "</div>"
       ],
       "metadata": {},
       "output_type": "pyout",
       "prompt_number": 10,
       "text": [
        "              Player   Cap Hit   PER        MPG\n",
        "0        Kobe Bryant  30453805  10.9  29.500000\n",
        "1      Dirk Nowitzki  22721381  23.2  32.318841\n",
        "2  Amar'e Stoudemire  21679893  18.6  21.296296\n",
        "3        Joe Johnson  21466718  15.1  32.895522\n",
        "4    Carmelo Anthony  21388953  24.9  38.820896"
       ]
      }
     ],
     "prompt_number": 10
    },
    {
     "cell_type": "markdown",
     "metadata": {},
     "source": [
      "Now that we have all of the data cleaned and in the proper format we can begin plotting it and working on making predictions. Below I have created a scatter plot of the PER and Salary data."
     ]
    },
    {
     "cell_type": "code",
     "collapsed": false,
     "input": [
      "pd.options.display.mpl_style = 'default'\n",
      "from matplotlib import rcParams\n",
      "rcParams['figure.figsize'] = (10, 6)\n",
      "rcParams['figure.dpi'] = 150"
     ],
     "language": "python",
     "metadata": {},
     "outputs": [],
     "prompt_number": 11
    },
    {
     "cell_type": "code",
     "collapsed": false,
     "input": [
      "plt.scatter(final['PER'],final['Cap Hit'])"
     ],
     "language": "python",
     "metadata": {},
     "outputs": [
      {
       "metadata": {},
       "output_type": "pyout",
       "prompt_number": 12,
       "text": [
        "<matplotlib.collections.PathCollection at 0x10797ed10>"
       ]
      },
      {
       "metadata": {},
       "output_type": "display_data",
       "png": "[encoded data removed]",
       "text": [
        "<matplotlib.figure.Figure at 0x105c30d10>"
       ]
      }
     ],
     "prompt_number": 12
    },
    {
     "cell_type": "markdown",
     "metadata": {},
     "source": [
      "To further visualize the data I created a scatter plot matrix of the Salary, PER, and MPG."
     ]
    },
    {
     "cell_type": "code",
     "collapsed": false,
     "input": [
      "smaller_frame=final[['Cap Hit', 'PER', 'MPG']]\n",
      "from pandas.tools.plotting import scatter_matrix\n",
      "axeslist=scatter_matrix(smaller_frame, alpha=0.8, figsize=(12, 12), diagonal=\"kde\")\n",
      "for ax in axeslist.flatten():\n",
      "    ax.grid(False)"
     ],
     "language": "python",
     "metadata": {},
     "outputs": [
      {
       "metadata": {},
       "output_type": "display_data",
       "png": "[encoded data removed]",
       "text": [
        "<matplotlib.figure.Figure at 0x107bc3410>"
       ]
      }
     ],
     "prompt_number": 15
    },
    {
     "cell_type": "code",
     "collapsed": false,
     "input": [
      "final.corr()"
     ],
     "language": "python",
     "metadata": {},
     "outputs": [
      {
       "html": [
        "<div style=\"max-height:1000px;max-width:1500px;overflow:auto;\">\n",
        "<table border=\"1\" class=\"dataframe\">\n",
        "  <thead>\n",
        "    <tr style=\"text-align: right;\">\n",
        "      <th></th>\n",
        "      <th>Cap Hit</th>\n",
        "      <th>PER</th>\n",
        "      <th>MPG</th>\n",
        "    </tr>\n",
        "  </thead>\n",
        "  <tbody>\n",
        "    <tr>\n",
        "      <th>Cap Hit</th>\n",
        "      <td> 1.000000</td>\n",
        "      <td> 0.502899</td>\n",
        "      <td> 0.574893</td>\n",
        "    </tr>\n",
        "    <tr>\n",
        "      <th>PER</th>\n",
        "      <td> 0.502899</td>\n",
        "      <td> 1.000000</td>\n",
        "      <td> 0.654308</td>\n",
        "    </tr>\n",
        "    <tr>\n",
        "      <th>MPG</th>\n",
        "      <td> 0.574893</td>\n",
        "      <td> 0.654308</td>\n",
        "      <td> 1.000000</td>\n",
        "    </tr>\n",
        "  </tbody>\n",
        "</table>\n",
        "</div>"
       ],
       "metadata": {},
       "output_type": "pyout",
       "prompt_number": 16,
       "text": [
        "          Cap Hit       PER       MPG\n",
        "Cap Hit  1.000000  0.502899  0.574893\n",
        "PER      0.502899  1.000000  0.654308\n",
        "MPG      0.574893  0.654308  1.000000"
       ]
      }
     ],
     "prompt_number": 16
    },
    {
     "cell_type": "markdown",
     "metadata": {},
     "source": [
      "Time to make some predictions on the data, the first step in this process was creating a model with the NBA data. I went with a simple Linear Regression classifier as we are looking to predict a continious target variable."
     ]
    },
    {
     "cell_type": "code",
     "collapsed": false,
     "input": [
      "final = final.dropna()"
     ],
     "language": "python",
     "metadata": {},
     "outputs": [],
     "prompt_number": 17
    },
    {
     "cell_type": "code",
     "collapsed": false,
     "input": [
      "cap = final['Cap Hit'][:, np.newaxis]\n",
      "per = final['PER'][:, np.newaxis]"
     ],
     "language": "python",
     "metadata": {},
     "outputs": [],
     "prompt_number": 18
    },
    {
     "cell_type": "code",
     "collapsed": false,
     "input": [
      "from sklearn.cross_validation import train_test_split\n",
      "from sklearn import datasets, linear_model\n",
      "X_train, X_test, y_train, y_test = train_test_split(per, cap)"
     ],
     "language": "python",
     "metadata": {},
     "outputs": [],
     "prompt_number": 23
    },
    {
     "cell_type": "code",
     "collapsed": false,
     "input": [
      "clf1 = linear_model.LinearRegression()\n",
      "clf1.fit(X_train, y_train)\n",
      "predicted_train = clf1.predict(X_train)\n",
      "predicted_test = clf1.predict(X_test)\n",
      "trains=X_train.reshape(1,-1).flatten()\n",
      "tests=X_test.reshape(1,-1).flatten()\n",
      "print clf1.coef_, clf1.intercept_"
     ],
     "language": "python",
     "metadata": {},
     "outputs": [
      {
       "output_type": "stream",
       "stream": "stdout",
       "text": [
        "[[ 528393.59943148]] [-2441876.32548805]\n"
       ]
      }
     ],
     "prompt_number": 25
    },
    {
     "cell_type": "code",
     "collapsed": false,
     "input": [
      "plt.scatter(per,cap,c='r')\n",
      "plt.plot(trains, predicted_train, c='b', alpha=0.5)"
     ],
     "language": "python",
     "metadata": {},
     "outputs": [
      {
       "metadata": {},
       "output_type": "pyout",
       "prompt_number": 26,
       "text": [
        "[<matplotlib.lines.Line2D at 0x1080986d0>]"
       ]
      },
      {
       "metadata": {},
       "output_type": "display_data",
       "png": "[encoded data removed]",
       "text": [
        "<matplotlib.figure.Figure at 0x109f29e10>"
       ]
      }
     ],
     "prompt_number": 26
    },
    {
     "cell_type": "markdown",
     "metadata": {},
     "source": [
      "Testing the classifier on a random PER."
     ]
    },
    {
     "cell_type": "code",
     "collapsed": false,
     "input": [
      "lr = linear_model.LinearRegression()\n",
      "lr.fit(per,cap)\n",
      " \n",
      "b_0   = lr.intercept_\n",
      "coeff = lr.coef_\n",
      "\n",
      "pred = lr.predict(33.68)\n",
      "pred"
     ],
     "language": "python",
     "metadata": {},
     "outputs": [
      {
       "metadata": {},
       "output_type": "pyout",
       "prompt_number": 29,
       "text": [
        "array([[ 14560859.24396324]])"
       ]
      }
     ],
     "prompt_number": 29
    },
    {
     "cell_type": "markdown",
     "metadata": {},
     "source": [
      "At this point it was time to show the model some data from NCAA players. I wrote a small scrapper using BeautifulSoup to scrape the PER ratings of the top 100 NCAA players from this current season off of ESPN.com. The following code displays this data."
     ]
    },
    {
     "cell_type": "code",
     "collapsed": false,
     "input": [
      "ncaa = pd.read_csv('ncaa.csv')\n",
      "ncaa = ncaa[ncaa.MPG > 6.09]\n",
      "ncaa.head()"
     ],
     "language": "python",
     "metadata": {},
     "outputs": [
      {
       "html": [
        "<div style=\"max-height:1000px;max-width:1500px;overflow:auto;\">\n",
        "<table border=\"1\" class=\"dataframe\">\n",
        "  <thead>\n",
        "    <tr style=\"text-align: right;\">\n",
        "      <th></th>\n",
        "      <th>RK</th>\n",
        "      <th>PLAYER</th>\n",
        "      <th>GP</th>\n",
        "      <th>MPG</th>\n",
        "      <th>AST</th>\n",
        "      <th>TO</th>\n",
        "      <th>USG</th>\n",
        "      <th>ORR</th>\n",
        "      <th>DRR</th>\n",
        "      <th>REBR</th>\n",
        "      <th>PER</th>\n",
        "    </tr>\n",
        "  </thead>\n",
        "  <tbody>\n",
        "    <tr>\n",
        "      <th>0</th>\n",
        "      <td> 1</td>\n",
        "      <td> Doug McDermott, CREI</td>\n",
        "      <td> 33</td>\n",
        "      <td> 33.6</td>\n",
        "      <td> 6.6</td>\n",
        "      <td>  7.7</td>\n",
        "      <td> 27.8</td>\n",
        "      <td>  5.7</td>\n",
        "      <td> 18.5</td>\n",
        "      <td> 12.1</td>\n",
        "      <td> 33.68</td>\n",
        "    </tr>\n",
        "    <tr>\n",
        "      <th>1</th>\n",
        "      <td> 2</td>\n",
        "      <td>  Alan Williams, UCSB</td>\n",
        "      <td> 26</td>\n",
        "      <td> 31.7</td>\n",
        "      <td> 5.4</td>\n",
        "      <td> 10.2</td>\n",
        "      <td> 27.1</td>\n",
        "      <td> 13.2</td>\n",
        "      <td> 28.4</td>\n",
        "      <td> 20.8</td>\n",
        "      <td> 33.37</td>\n",
        "    </tr>\n",
        "    <tr>\n",
        "      <th>2</th>\n",
        "      <td> 3</td>\n",
        "      <td>   De'Mon Brooks, DAV</td>\n",
        "      <td> 26</td>\n",
        "      <td> 26.8</td>\n",
        "      <td> 7.8</td>\n",
        "      <td> 12.9</td>\n",
        "      <td> 24.2</td>\n",
        "      <td> 10.4</td>\n",
        "      <td> 22.6</td>\n",
        "      <td> 16.5</td>\n",
        "      <td> 32.13</td>\n",
        "    </tr>\n",
        "    <tr>\n",
        "      <th>3</th>\n",
        "      <td> 4</td>\n",
        "      <td>    T.J. Warren, NCST</td>\n",
        "      <td> 33</td>\n",
        "      <td> 35.3</td>\n",
        "      <td> 4.5</td>\n",
        "      <td>  9.6</td>\n",
        "      <td> 28.0</td>\n",
        "      <td> 10.9</td>\n",
        "      <td> 13.1</td>\n",
        "      <td> 12.0</td>\n",
        "      <td> 32.06</td>\n",
        "    </tr>\n",
        "    <tr>\n",
        "      <th>4</th>\n",
        "      <td> 5</td>\n",
        "      <td>   Javonte Green, RAD</td>\n",
        "      <td> 30</td>\n",
        "      <td> 26.1</td>\n",
        "      <td> 6.1</td>\n",
        "      <td> 10.8</td>\n",
        "      <td> 23.0</td>\n",
        "      <td>  9.7</td>\n",
        "      <td> 27.7</td>\n",
        "      <td> 18.7</td>\n",
        "      <td> 30.61</td>\n",
        "    </tr>\n",
        "  </tbody>\n",
        "</table>\n",
        "</div>"
       ],
       "metadata": {},
       "output_type": "pyout",
       "prompt_number": 31,
       "text": [
        "   RK                PLAYER  GP   MPG  AST    TO   USG   ORR   DRR  REBR  \\\n",
        "0   1  Doug McDermott, CREI  33  33.6  6.6   7.7  27.8   5.7  18.5  12.1   \n",
        "1   2   Alan Williams, UCSB  26  31.7  5.4  10.2  27.1  13.2  28.4  20.8   \n",
        "2   3    De'Mon Brooks, DAV  26  26.8  7.8  12.9  24.2  10.4  22.6  16.5   \n",
        "3   4     T.J. Warren, NCST  33  35.3  4.5   9.6  28.0  10.9  13.1  12.0   \n",
        "4   5    Javonte Green, RAD  30  26.1  6.1  10.8  23.0   9.7  27.7  18.7   \n",
        "\n",
        "     PER  \n",
        "0  33.68  \n",
        "1  33.37  \n",
        "2  32.13  \n",
        "3  32.06  \n",
        "4  30.61  "
       ]
      }
     ],
     "prompt_number": 31
    },
    {
     "cell_type": "code",
     "collapsed": false,
     "input": [
      "ncaa = ncaa[['PLAYER','PER']]\n",
      "ncaa.head()"
     ],
     "language": "python",
     "metadata": {},
     "outputs": [
      {
       "html": [
        "<div style=\"max-height:1000px;max-width:1500px;overflow:auto;\">\n",
        "<table border=\"1\" class=\"dataframe\">\n",
        "  <thead>\n",
        "    <tr style=\"text-align: right;\">\n",
        "      <th></th>\n",
        "      <th>PLAYER</th>\n",
        "      <th>PER</th>\n",
        "    </tr>\n",
        "  </thead>\n",
        "  <tbody>\n",
        "    <tr>\n",
        "      <th>0</th>\n",
        "      <td> Doug McDermott, CREI</td>\n",
        "      <td> 33.68</td>\n",
        "    </tr>\n",
        "    <tr>\n",
        "      <th>1</th>\n",
        "      <td>  Alan Williams, UCSB</td>\n",
        "      <td> 33.37</td>\n",
        "    </tr>\n",
        "    <tr>\n",
        "      <th>2</th>\n",
        "      <td>   De'Mon Brooks, DAV</td>\n",
        "      <td> 32.13</td>\n",
        "    </tr>\n",
        "    <tr>\n",
        "      <th>3</th>\n",
        "      <td>    T.J. Warren, NCST</td>\n",
        "      <td> 32.06</td>\n",
        "    </tr>\n",
        "    <tr>\n",
        "      <th>4</th>\n",
        "      <td>   Javonte Green, RAD</td>\n",
        "      <td> 30.61</td>\n",
        "    </tr>\n",
        "  </tbody>\n",
        "</table>\n",
        "</div>"
       ],
       "metadata": {},
       "output_type": "pyout",
       "prompt_number": 32,
       "text": [
        "                 PLAYER    PER\n",
        "0  Doug McDermott, CREI  33.68\n",
        "1   Alan Williams, UCSB  33.37\n",
        "2    De'Mon Brooks, DAV  32.13\n",
        "3     T.J. Warren, NCST  32.06\n",
        "4    Javonte Green, RAD  30.61"
       ]
      }
     ],
     "prompt_number": 32
    },
    {
     "cell_type": "markdown",
     "metadata": {},
     "source": [
      "I then created a list of predicted salary based on the players PER rating and then added it into the data frame."
     ]
    },
    {
     "cell_type": "code",
     "collapsed": false,
     "input": [
      "ncaa_per = ncaa['PER'][:, np.newaxis]\n",
      "ncaa_player = ncaa['PLAYER'][:, np.newaxis]"
     ],
     "language": "python",
     "metadata": {},
     "outputs": [],
     "prompt_number": 33
    },
    {
     "cell_type": "code",
     "collapsed": false,
     "input": [
      "predictions = []\n",
      "for i in ncaa_per:\n",
      "    pred = lr.predict(i)\n",
      "    pred = float(pred)\n",
      "    pred = format(pred, '.2f')\n",
      "    predictions.append(pred)"
     ],
     "language": "python",
     "metadata": {},
     "outputs": [],
     "prompt_number": 34
    },
    {
     "cell_type": "markdown",
     "metadata": {},
     "source": [
      "The dataframe below shows the top 15 players based on PER and their predicted salary."
     ]
    },
    {
     "cell_type": "code",
     "collapsed": false,
     "input": [
      "ncaa['Predicted Salary'] = predictions\n",
      "ncaa.head(15)"
     ],
     "language": "python",
     "metadata": {},
     "outputs": [
      {
       "html": [
        "<div style=\"max-height:1000px;max-width:1500px;overflow:auto;\">\n",
        "<table border=\"1\" class=\"dataframe\">\n",
        "  <thead>\n",
        "    <tr style=\"text-align: right;\">\n",
        "      <th></th>\n",
        "      <th>PLAYER</th>\n",
        "      <th>PER</th>\n",
        "      <th>Predicted Salary</th>\n",
        "    </tr>\n",
        "  </thead>\n",
        "  <tbody>\n",
        "    <tr>\n",
        "      <th>0 </th>\n",
        "      <td>  Doug McDermott, CREI</td>\n",
        "      <td> 33.68</td>\n",
        "      <td> 14560859.24</td>\n",
        "    </tr>\n",
        "    <tr>\n",
        "      <th>1 </th>\n",
        "      <td>   Alan Williams, UCSB</td>\n",
        "      <td> 33.37</td>\n",
        "      <td> 14406288.32</td>\n",
        "    </tr>\n",
        "    <tr>\n",
        "      <th>2 </th>\n",
        "      <td>    De'Mon Brooks, DAV</td>\n",
        "      <td> 32.13</td>\n",
        "      <td> 13788004.62</td>\n",
        "    </tr>\n",
        "    <tr>\n",
        "      <th>3 </th>\n",
        "      <td>     T.J. Warren, NCST</td>\n",
        "      <td> 32.06</td>\n",
        "      <td> 13753101.51</td>\n",
        "    </tr>\n",
        "    <tr>\n",
        "      <th>4 </th>\n",
        "      <td>    Javonte Green, RAD</td>\n",
        "      <td> 30.61</td>\n",
        "      <td> 13030108.47</td>\n",
        "    </tr>\n",
        "    <tr>\n",
        "      <th>5 </th>\n",
        "      <td>        John Brown, HP</td>\n",
        "      <td> 30.56</td>\n",
        "      <td> 13005177.68</td>\n",
        "    </tr>\n",
        "    <tr>\n",
        "      <th>6 </th>\n",
        "      <td>    Javon McCrea, BUFF</td>\n",
        "      <td> 30.30</td>\n",
        "      <td> 12875537.55</td>\n",
        "    </tr>\n",
        "    <tr>\n",
        "      <th>7 </th>\n",
        "      <td>   Frank Kaminsky, WIS</td>\n",
        "      <td> 29.73</td>\n",
        "      <td> 12591326.49</td>\n",
        "    </tr>\n",
        "    <tr>\n",
        "      <th>8 </th>\n",
        "      <td> Cameron Bairstow, UNM</td>\n",
        "      <td> 29.68</td>\n",
        "      <td> 12566395.70</td>\n",
        "    </tr>\n",
        "    <tr>\n",
        "      <th>9 </th>\n",
        "      <td>   Jabari Parker, DUKE</td>\n",
        "      <td> 29.46</td>\n",
        "      <td> 12456700.20</td>\n",
        "    </tr>\n",
        "    <tr>\n",
        "      <th>10</th>\n",
        "      <td>        Troy Huff, UND</td>\n",
        "      <td> 29.44</td>\n",
        "      <td> 12446727.89</td>\n",
        "    </tr>\n",
        "    <tr>\n",
        "      <th>11</th>\n",
        "      <td>      Billy Baron, CAN</td>\n",
        "      <td> 29.38</td>\n",
        "      <td> 12416810.93</td>\n",
        "    </tr>\n",
        "    <tr>\n",
        "      <th>12</th>\n",
        "      <td>    Justin Sears, YALE</td>\n",
        "      <td> 28.98</td>\n",
        "      <td> 12217364.58</td>\n",
        "    </tr>\n",
        "    <tr>\n",
        "      <th>13</th>\n",
        "      <td>    Jordan Parks, NCCU</td>\n",
        "      <td> 28.90</td>\n",
        "      <td> 12177475.31</td>\n",
        "    </tr>\n",
        "    <tr>\n",
        "      <th>14</th>\n",
        "      <td>      Brad Waldow, SMC</td>\n",
        "      <td> 28.83</td>\n",
        "      <td> 12142572.19</td>\n",
        "    </tr>\n",
        "  </tbody>\n",
        "</table>\n",
        "</div>"
       ],
       "metadata": {},
       "output_type": "pyout",
       "prompt_number": 35,
       "text": [
        "                   PLAYER    PER Predicted Salary\n",
        "0    Doug McDermott, CREI  33.68      14560859.24\n",
        "1     Alan Williams, UCSB  33.37      14406288.32\n",
        "2      De'Mon Brooks, DAV  32.13      13788004.62\n",
        "3       T.J. Warren, NCST  32.06      13753101.51\n",
        "4      Javonte Green, RAD  30.61      13030108.47\n",
        "5          John Brown, HP  30.56      13005177.68\n",
        "6      Javon McCrea, BUFF  30.30      12875537.55\n",
        "7     Frank Kaminsky, WIS  29.73      12591326.49\n",
        "8   Cameron Bairstow, UNM  29.68      12566395.70\n",
        "9     Jabari Parker, DUKE  29.46      12456700.20\n",
        "10         Troy Huff, UND  29.44      12446727.89\n",
        "11       Billy Baron, CAN  29.38      12416810.93\n",
        "12     Justin Sears, YALE  28.98      12217364.58\n",
        "13     Jordan Parks, NCCU  28.90      12177475.31\n",
        "14       Brad Waldow, SMC  28.83      12142572.19"
       ]
      }
     ],
     "prompt_number": 35
    },
    {
     "cell_type": "markdown",
     "metadata": {},
     "source": [
      "It would be interesting to see how much those players make when they are drafted into the NBA. It would also be nice to see how the player's PER changed when they made the move to the pros."
     ]
    },
    {
     "cell_type": "code",
     "collapsed": false,
     "input": [],
     "language": "python",
     "metadata": {},
     "outputs": []
    }
   ],
   "metadata": {}
  }
 ]
}